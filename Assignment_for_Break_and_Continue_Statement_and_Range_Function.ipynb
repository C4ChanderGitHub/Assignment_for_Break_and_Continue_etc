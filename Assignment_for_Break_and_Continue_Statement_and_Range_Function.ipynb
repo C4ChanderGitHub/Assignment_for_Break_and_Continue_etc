{
 "cells": [
  {
   "cell_type": "markdown",
   "id": "8ba0be02",
   "metadata": {},
   "source": [
    "# 1. Write a program to print number from 1 to 10, but stop if the number is 5"
   ]
  },
  {
   "cell_type": "code",
   "execution_count": 1,
   "id": "c45864b2",
   "metadata": {},
   "outputs": [
    {
     "data": {
      "text/plain": [
       "[1, 2, 3, 4, 5, 6, 7, 8, 9, 10]"
      ]
     },
     "execution_count": 1,
     "metadata": {},
     "output_type": "execute_result"
    }
   ],
   "source": [
    "#Generate a list from 1 to 10\n",
    "\n",
    "list(range(1,11))"
   ]
  },
  {
   "cell_type": "code",
   "execution_count": 2,
   "id": "e82511a3",
   "metadata": {},
   "outputs": [
    {
     "name": "stdout",
     "output_type": "stream",
     "text": [
      "1\n",
      "2\n",
      "3\n",
      "4\n",
      "\n",
      "here I use break keyword to break iteration on 5\n"
     ]
    }
   ],
   "source": [
    "#stop the iteration, if the number is 5\n",
    "for i in range(1,11):\n",
    "    if i == 5:\n",
    "        break\n",
    "    print(i)\n",
    "print()\n",
    "print(\"here I use break keyword to break iteration on 5\")    "
   ]
  },
  {
   "cell_type": "code",
   "execution_count": 3,
   "id": "a7bc9baf",
   "metadata": {},
   "outputs": [
    {
     "name": "stdout",
     "output_type": "stream",
     "text": [
      "[1, 2, 3, 4, 5, 6, 7, 8, 9, 10]\n"
     ]
    }
   ],
   "source": [
    "#Generate a list from 1 to 10\n",
    "lst2 = [1,2,3,4,5,6,7,8,9,10]\n",
    "print(lst2)"
   ]
  },
  {
   "cell_type": "code",
   "execution_count": 4,
   "id": "19bc4cde",
   "metadata": {},
   "outputs": [
    {
     "name": "stdout",
     "output_type": "stream",
     "text": [
      "1\n",
      "2\n",
      "3\n",
      "4\n",
      "\n",
      "here I use break keyword to break iteration on 5\n"
     ]
    }
   ],
   "source": [
    "#list iteration stop when number is 5\n",
    "for i in lst2:\n",
    "    if i == 5:\n",
    "        break\n",
    "    print(i)\n",
    "print()\n",
    "print(\"here I use break keyword to break iteration on 5\")"
   ]
  },
  {
   "cell_type": "markdown",
   "id": "dc8f226b",
   "metadata": {},
   "source": [
    "# 2. Write a program to iterate through a list and stop when encountering a specific element."
   ]
  },
  {
   "cell_type": "code",
   "execution_count": 5,
   "id": "52906ec8",
   "metadata": {},
   "outputs": [
    {
     "name": "stdout",
     "output_type": "stream",
     "text": [
      "chander\n",
      "1\n",
      "5\n",
      "7\n",
      "Parkash\n",
      "Sagar\n",
      "\n",
      "break keyword stop the iteration on Kapil\n"
     ]
    }
   ],
   "source": [
    "#create a list and stop on specific element\n",
    "new_list = [\"chander\", 1, 5, 7, \"Parkash\", \"Sagar\", \"Kapil\", 5.4] #generate a new list\n",
    "for iterate in new_list:\n",
    "    if iterate == \"Kapil\": #\"Kapil\" is my target name to stop iteration\n",
    "        break\n",
    "    print(iterate)\n",
    "print() #print for new line\n",
    "print(\"break keyword stop the iteration on Kapil\")"
   ]
  },
  {
   "cell_type": "markdown",
   "id": "7c421edd",
   "metadata": {},
   "source": [
    "# 3. Write a program to skip printing even numbers from 1 to 10."
   ]
  },
  {
   "cell_type": "code",
   "execution_count": 6,
   "id": "748edcc5",
   "metadata": {},
   "outputs": [
    {
     "name": "stdout",
     "output_type": "stream",
     "text": [
      "1\n",
      "3\n",
      "5\n",
      "7\n",
      "9\n"
     ]
    }
   ],
   "source": [
    "# skip even number\n",
    "for K in range(1,10):\n",
    "    if K%2 ==0: # for even number\n",
    "        continue #skip a even number\n",
    "    print(K)"
   ]
  },
  {
   "cell_type": "markdown",
   "id": "ae3b99af",
   "metadata": {},
   "source": [
    "# 4. Write a program to print numbers from 0 to 9 using range"
   ]
  },
  {
   "cell_type": "code",
   "execution_count": 7,
   "id": "2f234708",
   "metadata": {},
   "outputs": [
    {
     "name": "stdout",
     "output_type": "stream",
     "text": [
      "0\n",
      "1\n",
      "2\n",
      "3\n",
      "4\n",
      "5\n",
      "6\n",
      "7\n",
      "8\n",
      "9\n"
     ]
    }
   ],
   "source": [
    "#generate a number by using RANGE function\n",
    "for B in range(10):\n",
    "    print(B)"
   ]
  },
  {
   "cell_type": "markdown",
   "id": "e99d9b9e",
   "metadata": {},
   "source": [
    "# 5. Write a program to print multiplication tables from 1 to 5, but stop after the first table is printed for each number."
   ]
  },
  {
   "cell_type": "code",
   "execution_count": 8,
   "id": "6869cca0",
   "metadata": {},
   "outputs": [
    {
     "name": "stdout",
     "output_type": "stream",
     "text": [
      "Enter the values required for the multiplication table here = 5\n",
      "\n",
      "table number that you did not want to show ahead = 2\n",
      "\n",
      "1 X 1 = 1\n",
      "1 X 2 = 2\n",
      "1 X 3 = 3\n",
      "1 X 4 = 4\n",
      "1 X 5 = 5\n",
      "1 X 6 = 6\n",
      "1 X 7 = 7\n",
      "1 X 8 = 8\n",
      "1 X 9 = 9\n",
      "1 X 10 = 10\n",
      "\n",
      "as you mentioned table not shown ahead\n"
     ]
    }
   ],
   "source": [
    "#Generate Multiplication tables\n",
    "table = int(input(\"Enter the values required for the multiplication table here = \")) #assign a value to find out tables \n",
    "print()\n",
    "table_break = int(input(\"table number that you did not want to show ahead = \"))# enter the value to stop showing the table\n",
    "print()\n",
    "\n",
    "for J in range(1,table+1): #outer value\n",
    "    if J == table_break:\n",
    "        break\n",
    "    for L in range(1,11): #inner value\n",
    "        print(f\"{J} X {L} = {J*L}\") #Structure of table\n",
    "    print()\n",
    "print(\"as you mentioned table not shown ahead\")"
   ]
  },
  {
   "cell_type": "markdown",
   "id": "0d2091b7",
   "metadata": {},
   "source": [
    "# 6. Write a program to skip printing even numbers using a while loop"
   ]
  },
  {
   "cell_type": "code",
   "execution_count": 9,
   "id": "26e5d279",
   "metadata": {},
   "outputs": [
    {
     "name": "stdout",
     "output_type": "stream",
     "text": [
      "0\n",
      "1\n",
      "2\n",
      "3\n",
      "4\n",
      "5\n",
      "6\n",
      "7\n",
      "8\n",
      "9\n",
      "10\n"
     ]
    }
   ],
   "source": [
    "#generate a number 0 to 10\n",
    "var1 = 0\n",
    "while var1 <= 10:\n",
    "    print(var1)\n",
    "    var1 += 1 #variable var1 is updating by adding 1 with each iteration"
   ]
  },
  {
   "cell_type": "code",
   "execution_count": 10,
   "id": "ed0cb020",
   "metadata": {},
   "outputs": [
    {
     "name": "stdout",
     "output_type": "stream",
     "text": [
      "1\n",
      "3\n",
      "5\n",
      "7\n",
      "9\n"
     ]
    }
   ],
   "source": [
    "# generate a odd number\n",
    "var2 = 0\n",
    "while var2 <= 10:\n",
    "    if var2%2 !=0:\n",
    "        print(var2)\n",
    "    var2 += 1 #variable var1 is updating by adding 1 with each iteration"
   ]
  }
 ],
 "metadata": {
  "kernelspec": {
   "display_name": "Python 3 (ipykernel)",
   "language": "python",
   "name": "python3"
  },
  "language_info": {
   "codemirror_mode": {
    "name": "ipython",
    "version": 3
   },
   "file_extension": ".py",
   "mimetype": "text/x-python",
   "name": "python",
   "nbconvert_exporter": "python",
   "pygments_lexer": "ipython3",
   "version": "3.11.5"
  }
 },
 "nbformat": 4,
 "nbformat_minor": 5
}
